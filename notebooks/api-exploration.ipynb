{
 "cells": [
  {
   "cell_type": "code",
   "execution_count": 1,
   "metadata": {},
   "outputs": [],
   "source": [
    "import json\n",
    "\n",
    "from openaq import OpenAQ"
   ]
  },
  {
   "cell_type": "code",
   "execution_count": 2,
   "metadata": {},
   "outputs": [],
   "source": [
    "with open(\"../secrets.json\") as f:\n",
    "    secrets = json.load(f)\n",
    "    f.close()\n",
    "\n",
    "openaq_key = secrets[\"openaq-api-key\"]"
   ]
  },
  {
   "cell_type": "code",
   "execution_count": 3,
   "metadata": {},
   "outputs": [
    {
     "data": {
      "text/plain": [
       "<openaq._sync.client.OpenAQ at 0x180d756da90>"
      ]
     },
     "execution_count": 3,
     "metadata": {},
     "output_type": "execute_result"
    }
   ],
   "source": [
    "client = OpenAQ(api_key=openaq_key)\n",
    "\n",
    "client"
   ]
  },
  {
   "cell_type": "code",
   "execution_count": 4,
   "metadata": {},
   "outputs": [
    {
     "data": {
      "text/plain": [
       "Meta(name='openaq-api', website='/', page=1, limit=1000, found=16)"
      ]
     },
     "execution_count": 4,
     "metadata": {},
     "output_type": "execute_result"
    }
   ],
   "source": [
    "canada_bbox_search_locations = client.locations.list(\n",
    "    bbox=(-79.933777,43.536603,-79.205933,43.953282),\n",
    "    limit=1000\n",
    ")\n",
    "\n",
    "canada_bbox_search_locations.meta"
   ]
  },
  {
   "cell_type": "code",
   "execution_count": 5,
   "metadata": {},
   "outputs": [
    {
     "data": {
      "text/plain": [
       "{'id': 1647,\n",
       " 'name': 'Toronto Downtown',\n",
       " 'locality': None,\n",
       " 'timezone': 'America/Toronto',\n",
       " 'country': CountryBase(id=156, code='CA', name='Canada'),\n",
       " 'owner': OwnerBase(id=4, name='Unknown Governmental Organization'),\n",
       " 'provider': ProviderBase(id=119, name='AirNow'),\n",
       " 'is_mobile': False,\n",
       " 'is_monitor': True,\n",
       " 'instruments': [InstrumentBase(id=2, name='Government Monitor')],\n",
       " 'sensors': [SensorBase(id=2915, name='o3 ppm', parameter=ParameterBase(id=10, name='o3', units='ppm', display_name='O₃')),\n",
       "  SensorBase(id=2914, name='pm25 µg/m³', parameter=ParameterBase(id=2, name='pm25', units='µg/m³', display_name='PM2.5'))],\n",
       " 'coordinates': Coordinates(latitude=43.6619, longitude=-79.3853),\n",
       " 'bounds': [-79.3853, 43.6619, -79.3853, 43.6619],\n",
       " 'distance': None,\n",
       " 'datetime_first': Datetime(utc='2016-03-06T20:00:00Z', local='2016-03-06T15:00:00-05:00'),\n",
       " 'datetime_last': Datetime(utc='2021-01-28T16:00:00Z', local='2021-01-28T11:00:00-05:00')}"
      ]
     },
     "execution_count": 5,
     "metadata": {},
     "output_type": "execute_result"
    }
   ],
   "source": [
    "canada_bbox_search_locations.results[0].__dict__"
   ]
  },
  {
   "cell_type": "code",
   "execution_count": 6,
   "metadata": {},
   "outputs": [
    {
     "data": {
      "text/plain": [
       "{1647: 'Toronto Downtown',\n",
       " 7570: 'Toronto Downtown',\n",
       " 1210341: 'Toronto East',\n",
       " 1274941: 'Brampton',\n",
       " 1274944: 'Misssissauga',\n",
       " 1274949: 'Toronto North',\n",
       " 1274950: 'Toronto West',\n",
       " 1275803: 'Toronto East',\n",
       " 1285343: 'SPARTAN - Downsview',\n",
       " 1365268: 'Misssissauga',\n",
       " 1612333: 'AQ-Toronto-Annex',\n",
       " 2937895: 'a',\n",
       " 2966040: 'Brampton',\n",
       " 3030376: 'Nobleton',\n",
       " 3058771: 'Agincourt',\n",
       " 3145071: 'NASA GSFC Rutgers Calib. N20'}"
      ]
     },
     "execution_count": 6,
     "metadata": {},
     "output_type": "execute_result"
    }
   ],
   "source": [
    "locations_info = {}\n",
    "\n",
    "for location in canada_bbox_search_locations.results:\n",
    "\n",
    "    locations_info[location.id] = location.name\n",
    "\n",
    "locations_info"
   ]
  },
  {
   "cell_type": "code",
   "execution_count": 7,
   "metadata": {},
   "outputs": [
    {
     "data": {
      "text/plain": [
       "16"
      ]
     },
     "execution_count": 7,
     "metadata": {},
     "output_type": "execute_result"
    }
   ],
   "source": [
    "len(locations_info)"
   ]
  },
  {
   "cell_type": "code",
   "execution_count": 8,
   "metadata": {},
   "outputs": [],
   "source": [
    "with open(\"../locations.json\", \"w\", encoding=\"utf-8\") as f:\n",
    "    json.dump(locations_info, f, ensure_ascii=False, indent=4)\n",
    "    f.close()"
   ]
  },
  {
   "cell_type": "code",
   "execution_count": 14,
   "metadata": {},
   "outputs": [
    {
     "data": {
      "text/plain": [
       "Meta(name='openaq-api', website='/', page=1, limit=1000, found=34)"
      ]
     },
     "execution_count": 14,
     "metadata": {},
     "output_type": "execute_result"
    }
   ],
   "source": [
    "vancouver_bbox_search_locations = client.locations.list(\n",
    "    bbox=(-123.335266,49.036067,-122.467346,49.325122),\n",
    "    limit=1000\n",
    ")\n",
    "\n",
    "vancouver_bbox_search_locations.meta"
   ]
  },
  {
   "cell_type": "code",
   "execution_count": 15,
   "metadata": {},
   "outputs": [
    {
     "data": {
      "text/plain": [
       "[Location(id=1045, name='Pitt Meadows', locality='BRITISH COLUMBIA', timezone='America/Vancouver', country=CountryBase(id=156, code='CA', name='Canada'), owner=OwnerBase(id=4, name='Unknown Governmental Organization'), provider=ProviderBase(id=119, name='AirNow'), is_mobile=False, is_monitor=True, instruments=[InstrumentBase(id=2, name='Government Monitor')], sensors=[SensorBase(id=4272081, name='no ppm', parameter=ParameterBase(id=35, name='no', units='ppm', display_name='NO')), SensorBase(id=1714578, name='no2 ppm', parameter=ParameterBase(id=7, name='no2', units='ppm', display_name='NO₂')), SensorBase(id=1879, name='o3 ppm', parameter=ParameterBase(id=10, name='o3', units='ppm', display_name='O₃')), SensorBase(id=22029, name='pm25 µg/m³', parameter=ParameterBase(id=2, name='pm25', units='µg/m³', display_name='PM2.5')), SensorBase(id=1714569, name='so2 ppm', parameter=ParameterBase(id=9, name='so2', units='ppm', display_name='SO₂'))], coordinates=Coordinates(latitude=49.24528, longitude=-122.70889), bounds=[-122.70889, 49.24528, -122.70889, 49.24528], distance=None, datetime_first=Datetime(utc='2016-03-06T20:00:00Z', local='2016-03-06T12:00:00-08:00'), datetime_last=Datetime(utc='2025-01-02T21:00:00Z', local='2025-01-02T13:00:00-08:00')),\n",
       " Location(id=1203, name='Kensington Park', locality='BRITISH COLUMBIA', timezone='America/Vancouver', country=CountryBase(id=156, code='CA', name='Canada'), owner=OwnerBase(id=4, name='Unknown Governmental Organization'), provider=ProviderBase(id=119, name='AirNow'), is_mobile=False, is_monitor=True, instruments=[InstrumentBase(id=2, name='Government Monitor')], sensors=[SensorBase(id=4272206, name='no ppm', parameter=ParameterBase(id=35, name='no', units='ppm', display_name='NO')), SensorBase(id=1714568, name='no2 ppm', parameter=ParameterBase(id=7, name='no2', units='ppm', display_name='NO₂')), SensorBase(id=2155, name='o3 ppm', parameter=ParameterBase(id=10, name='o3', units='ppm', display_name='O₃')), SensorBase(id=1714576, name='pm10 µg/m³', parameter=ParameterBase(id=1, name='pm10', units='µg/m³', display_name='PM10')), SensorBase(id=2156, name='pm25 µg/m³', parameter=ParameterBase(id=2, name='pm25', units='µg/m³', display_name='PM2.5')), SensorBase(id=1714566, name='so2 ppm', parameter=ParameterBase(id=9, name='so2', units='ppm', display_name='SO₂'))], coordinates=Coordinates(latitude=49.2794, longitude=-122.97109999999999), bounds=[-122.97109999999999, 49.2794, -122.97109999999999, 49.2794], distance=None, datetime_first=Datetime(utc='2016-03-06T20:00:00Z', local='2016-03-06T12:00:00-08:00'), datetime_last=Datetime(utc='2025-01-02T21:00:00Z', local='2025-01-02T13:00:00-08:00')),\n",
       " Location(id=1315, name='Langley', locality='BRITISH COLUMBIA', timezone='America/Vancouver', country=CountryBase(id=156, code='CA', name='Canada'), owner=OwnerBase(id=4, name='Unknown Governmental Organization'), provider=ProviderBase(id=119, name='AirNow'), is_mobile=False, is_monitor=True, instruments=[InstrumentBase(id=2, name='Government Monitor')], sensors=[SensorBase(id=4272120, name='no ppm', parameter=ParameterBase(id=35, name='no', units='ppm', display_name='NO')), SensorBase(id=1714556, name='no2 ppm', parameter=ParameterBase(id=7, name='no2', units='ppm', display_name='NO₂')), SensorBase(id=2376, name='o3 ppm', parameter=ParameterBase(id=10, name='o3', units='ppm', display_name='O₃')), SensorBase(id=1714571, name='pm10 µg/m³', parameter=ParameterBase(id=1, name='pm10', units='µg/m³', display_name='PM10')), SensorBase(id=22025, name='pm25 µg/m³', parameter=ParameterBase(id=2, name='pm25', units='µg/m³', display_name='PM2.5')), SensorBase(id=1714585, name='so2 ppm', parameter=ParameterBase(id=9, name='so2', units='ppm', display_name='SO₂'))], coordinates=Coordinates(latitude=49.09556, longitude=-122.56694), bounds=[-122.56694, 49.09556, -122.56694, 49.09556], distance=None, datetime_first=Datetime(utc='2016-03-06T20:00:00Z', local='2016-03-06T12:00:00-08:00'), datetime_last=Datetime(utc='2025-01-02T21:00:00Z', local='2025-01-02T13:00:00-08:00')),\n",
       " Location(id=1528, name='Vancouver Airport', locality='BRITISH COLUMBIA', timezone='America/Vancouver', country=CountryBase(id=156, code='CA', name='Canada'), owner=OwnerBase(id=4, name='Unknown Governmental Organization'), provider=ProviderBase(id=119, name='AirNow'), is_mobile=False, is_monitor=True, instruments=[InstrumentBase(id=2, name='Government Monitor')], sensors=[SensorBase(id=1714554, name='co ppm', parameter=ParameterBase(id=8, name='co', units='ppm', display_name='CO')), SensorBase(id=4272100, name='no ppm', parameter=ParameterBase(id=35, name='no', units='ppm', display_name='NO')), SensorBase(id=1714561, name='no2 ppm', parameter=ParameterBase(id=7, name='no2', units='ppm', display_name='NO₂')), SensorBase(id=2691, name='o3 ppm', parameter=ParameterBase(id=10, name='o3', units='ppm', display_name='O₃')), SensorBase(id=1714557, name='pm10 µg/m³', parameter=ParameterBase(id=1, name='pm10', units='µg/m³', display_name='PM10')), SensorBase(id=22030, name='pm25 µg/m³', parameter=ParameterBase(id=2, name='pm25', units='µg/m³', display_name='PM2.5')), SensorBase(id=1714583, name='so2 ppm', parameter=ParameterBase(id=9, name='so2', units='ppm', display_name='SO₂'))], coordinates=Coordinates(latitude=49.18639000000001, longitude=-123.15221999999997), bounds=[-123.15221999999997, 49.18639000000001, -123.15221999999997, 49.18639000000001], distance=None, datetime_first=Datetime(utc='2016-03-06T20:00:00Z', local='2016-03-06T12:00:00-08:00'), datetime_last=Datetime(utc='2025-01-02T21:00:00Z', local='2025-01-02T13:00:00-08:00')),\n",
       " Location(id=1600, name='Burnaby South', locality='BRITISH COLUMBIA', timezone='America/Vancouver', country=CountryBase(id=156, code='CA', name='Canada'), owner=OwnerBase(id=4, name='Unknown Governmental Organization'), provider=ProviderBase(id=119, name='AirNow'), is_mobile=False, is_monitor=True, instruments=[InstrumentBase(id=2, name='Government Monitor')], sensors=[SensorBase(id=1714559, name='co ppm', parameter=ParameterBase(id=8, name='co', units='ppm', display_name='CO')), SensorBase(id=4272340, name='no ppm', parameter=ParameterBase(id=35, name='no', units='ppm', display_name='NO')), SensorBase(id=1714558, name='no2 ppm', parameter=ParameterBase(id=7, name='no2', units='ppm', display_name='NO₂')), SensorBase(id=2817, name='o3 ppm', parameter=ParameterBase(id=10, name='o3', units='ppm', display_name='O₃')), SensorBase(id=1714587, name='pm10 µg/m³', parameter=ParameterBase(id=1, name='pm10', units='µg/m³', display_name='PM10')), SensorBase(id=22034, name='pm25 µg/m³', parameter=ParameterBase(id=2, name='pm25', units='µg/m³', display_name='PM2.5')), SensorBase(id=1714562, name='so2 ppm', parameter=ParameterBase(id=9, name='so2', units='ppm', display_name='SO₂'))], coordinates=Coordinates(latitude=49.21528, longitude=-122.98555999999999), bounds=[-122.98555999999999, 49.21528, -122.98555999999999, 49.21528], distance=None, datetime_first=Datetime(utc='2016-03-06T20:00:00Z', local='2016-03-06T12:00:00-08:00'), datetime_last=Datetime(utc='2025-01-02T21:00:00Z', local='2025-01-02T13:00:00-08:00')),\n",
       " Location(id=1709, name='Mahon Park', locality='BRITISH COLUMBIA', timezone='America/Vancouver', country=CountryBase(id=156, code='CA', name='Canada'), owner=OwnerBase(id=4, name='Unknown Governmental Organization'), provider=ProviderBase(id=119, name='AirNow'), is_mobile=False, is_monitor=True, instruments=[InstrumentBase(id=2, name='Government Monitor')], sensors=[SensorBase(id=1714575, name='co ppm', parameter=ParameterBase(id=8, name='co', units='ppm', display_name='CO')), SensorBase(id=4272435, name='no ppm', parameter=ParameterBase(id=35, name='no', units='ppm', display_name='NO')), SensorBase(id=1714553, name='no2 ppm', parameter=ParameterBase(id=7, name='no2', units='ppm', display_name='NO₂')), SensorBase(id=3025, name='o3 ppm', parameter=ParameterBase(id=10, name='o3', units='ppm', display_name='O₃')), SensorBase(id=22036, name='pm25 µg/m³', parameter=ParameterBase(id=2, name='pm25', units='µg/m³', display_name='PM2.5')), SensorBase(id=1714547, name='so2 ppm', parameter=ParameterBase(id=9, name='so2', units='ppm', display_name='SO₂'))], coordinates=Coordinates(latitude=49.323891, longitude=-123.083611), bounds=[-123.083611, 49.323891, -123.083611, 49.323891], distance=None, datetime_first=Datetime(utc='2016-03-06T20:00:00Z', local='2016-03-06T12:00:00-08:00'), datetime_last=Datetime(utc='2025-01-02T21:00:00Z', local='2025-01-02T13:00:00-08:00')),\n",
       " Location(id=1729, name='Surrey East', locality='BRITISH COLUMBIA', timezone='America/Vancouver', country=CountryBase(id=156, code='CA', name='Canada'), owner=OwnerBase(id=4, name='Unknown Governmental Organization'), provider=ProviderBase(id=119, name='AirNow'), is_mobile=False, is_monitor=True, instruments=[InstrumentBase(id=2, name='Government Monitor')], sensors=[SensorBase(id=1714552, name='co ppm', parameter=ParameterBase(id=8, name='co', units='ppm', display_name='CO')), SensorBase(id=4272183, name='no ppm', parameter=ParameterBase(id=35, name='no', units='ppm', display_name='NO')), SensorBase(id=1714549, name='no2 ppm', parameter=ParameterBase(id=7, name='no2', units='ppm', display_name='NO₂')), SensorBase(id=3049, name='o3 ppm', parameter=ParameterBase(id=10, name='o3', units='ppm', display_name='O₃')), SensorBase(id=22028, name='pm25 µg/m³', parameter=ParameterBase(id=2, name='pm25', units='µg/m³', display_name='PM2.5'))], coordinates=Coordinates(latitude=49.13278, longitude=-122.69417000000001), bounds=[-122.69417000000001, 49.13278, -122.69417000000001, 49.13278], distance=None, datetime_first=Datetime(utc='2016-03-06T20:00:00Z', local='2016-03-06T12:00:00-08:00'), datetime_last=Datetime(utc='2025-01-02T21:00:00Z', local='2025-01-02T13:00:00-08:00')),\n",
       " Location(id=1734, name='Maple Ridge', locality='BRITISH COLUMBIA', timezone='America/Vancouver', country=CountryBase(id=156, code='CA', name='Canada'), owner=OwnerBase(id=4, name='Unknown Governmental Organization'), provider=ProviderBase(id=119, name='AirNow'), is_mobile=False, is_monitor=True, instruments=[InstrumentBase(id=2, name='Government Monitor')], sensors=[SensorBase(id=1738445, name='co ppm', parameter=ParameterBase(id=8, name='co', units='ppm', display_name='CO')), SensorBase(id=4272345, name='no ppm', parameter=ParameterBase(id=35, name='no', units='ppm', display_name='NO')), SensorBase(id=1738444, name='no2 ppm', parameter=ParameterBase(id=7, name='no2', units='ppm', display_name='NO₂')), SensorBase(id=3056, name='o3 ppm', parameter=ParameterBase(id=10, name='o3', units='ppm', display_name='O₃'))], coordinates=Coordinates(latitude=49.215, longitude=-122.58194), bounds=[-122.58194, 49.215, -122.58194, 49.215], distance=None, datetime_first=Datetime(utc='2016-03-06T20:00:00Z', local='2016-03-06T12:00:00-08:00'), datetime_last=Datetime(utc='2025-01-02T21:00:00Z', local='2025-01-02T13:00:00-08:00')),\n",
       " Location(id=1967, name='Coquitlam', locality='BRITISH COLUMBIA', timezone='America/Vancouver', country=CountryBase(id=156, code='CA', name='Canada'), owner=OwnerBase(id=4, name='Unknown Governmental Organization'), provider=ProviderBase(id=119, name='AirNow'), is_mobile=False, is_monitor=True, instruments=[InstrumentBase(id=2, name='Government Monitor')], sensors=[SensorBase(id=4272284, name='no ppm', parameter=ParameterBase(id=35, name='no', units='ppm', display_name='NO')), SensorBase(id=1714564, name='no2 ppm', parameter=ParameterBase(id=7, name='no2', units='ppm', display_name='NO₂')), SensorBase(id=3482, name='o3 ppm', parameter=ParameterBase(id=10, name='o3', units='ppm', display_name='O₃'))], coordinates=Coordinates(latitude=49.28806, longitude=-122.79139000000002), bounds=[-122.79139000000002, 49.28806, -122.79139000000002, 49.28806], distance=None, datetime_first=Datetime(utc='2016-03-06T20:00:00Z', local='2016-03-06T12:00:00-08:00'), datetime_last=Datetime(utc='2025-01-02T21:00:00Z', local='2025-01-02T13:00:00-08:00')),\n",
       " Location(id=2074, name='North Delta', locality='BRITISH COLUMBIA', timezone='America/Vancouver', country=CountryBase(id=156, code='CA', name='Canada'), owner=OwnerBase(id=4, name='Unknown Governmental Organization'), provider=ProviderBase(id=119, name='AirNow'), is_mobile=False, is_monitor=True, instruments=[InstrumentBase(id=2, name='Government Monitor')], sensors=[SensorBase(id=4272376, name='no ppm', parameter=ParameterBase(id=35, name='no', units='ppm', display_name='NO')), SensorBase(id=1714572, name='no2 ppm', parameter=ParameterBase(id=7, name='no2', units='ppm', display_name='NO₂')), SensorBase(id=3693, name='o3 ppm', parameter=ParameterBase(id=10, name='o3', units='ppm', display_name='O₃')), SensorBase(id=3697, name='pm25 µg/m³', parameter=ParameterBase(id=2, name='pm25', units='µg/m³', display_name='PM2.5'))], coordinates=Coordinates(latitude=49.15833, longitude=-122.90167), bounds=[-122.90167, 49.15833, -122.90167, 49.15833], distance=None, datetime_first=Datetime(utc='2016-03-06T20:00:00Z', local='2016-03-06T12:00:00-08:00'), datetime_last=Datetime(utc='2025-01-02T21:00:00Z', local='2025-01-02T13:00:00-08:00')),\n",
       " Location(id=2113, name='Rocky Point Park', locality='BRITISH COLUMBIA', timezone='America/Vancouver', country=CountryBase(id=156, code='CA', name='Canada'), owner=OwnerBase(id=4, name='Unknown Governmental Organization'), provider=ProviderBase(id=119, name='AirNow'), is_mobile=False, is_monitor=True, instruments=[InstrumentBase(id=2, name='Government Monitor')], sensors=[SensorBase(id=1714582, name='co ppm', parameter=ParameterBase(id=8, name='co', units='ppm', display_name='CO')), SensorBase(id=3800, name='pm25 µg/m³', parameter=ParameterBase(id=2, name='pm25', units='µg/m³', display_name='PM2.5'))], coordinates=Coordinates(latitude=49.28083, longitude=-122.84917), bounds=[-122.84917, 49.28083, -122.84917, 49.28083], distance=None, datetime_first=Datetime(utc='2016-03-06T20:00:00Z', local='2016-03-06T12:00:00-08:00'), datetime_last=Datetime(utc='2025-01-02T21:00:00Z', local='2025-01-02T13:00:00-08:00')),\n",
       " Location(id=2129, name='Richmond South', locality='BRITISH COLUMBIA', timezone='America/Vancouver', country=CountryBase(id=156, code='CA', name='Canada'), owner=OwnerBase(id=4, name='Unknown Governmental Organization'), provider=ProviderBase(id=119, name='AirNow'), is_mobile=False, is_monitor=True, instruments=[InstrumentBase(id=2, name='Government Monitor')], sensors=[SensorBase(id=1714584, name='co ppm', parameter=ParameterBase(id=8, name='co', units='ppm', display_name='CO')), SensorBase(id=4272252, name='no ppm', parameter=ParameterBase(id=35, name='no', units='ppm', display_name='NO')), SensorBase(id=1714574, name='no2 ppm', parameter=ParameterBase(id=7, name='no2', units='ppm', display_name='NO₂')), SensorBase(id=3825, name='o3 ppm', parameter=ParameterBase(id=10, name='o3', units='ppm', display_name='O₃')), SensorBase(id=22031, name='pm25 µg/m³', parameter=ParameterBase(id=2, name='pm25', units='µg/m³', display_name='PM2.5')), SensorBase(id=1714573, name='so2 ppm', parameter=ParameterBase(id=9, name='so2', units='ppm', display_name='SO₂'))], coordinates=Coordinates(latitude=49.14139, longitude=-123.10833000000001), bounds=[-123.10833000000001, 49.14139, -123.10833000000001, 49.14139], distance=None, datetime_first=Datetime(utc='2016-03-06T20:00:00Z', local='2016-03-06T12:00:00-08:00'), datetime_last=Datetime(utc='2025-01-02T21:00:00Z', local='2025-01-02T13:00:00-08:00')),\n",
       " Location(id=306330, name='Burnaby Mountain', locality='N/A', timezone='America/Vancouver', country=CountryBase(id=156, code='CA', name='Canada'), owner=OwnerBase(id=4, name='Unknown Governmental Organization'), provider=ProviderBase(id=119, name='AirNow'), is_mobile=False, is_monitor=True, instruments=[InstrumentBase(id=2, name='Government Monitor')], sensors=[SensorBase(id=5077855, name='no ppm', parameter=ParameterBase(id=35, name='no', units='ppm', display_name='NO')), SensorBase(id=1738490, name='no2 ppm', parameter=ParameterBase(id=7, name='no2', units='ppm', display_name='NO₂')), SensorBase(id=1738489, name='o3 ppm', parameter=ParameterBase(id=10, name='o3', units='ppm', display_name='O₃'))], coordinates=Coordinates(latitude=49.2798, longitude=-122.9223), bounds=[-122.9223, 49.2798, -122.9223, 49.2798], distance=None, datetime_first=Datetime(utc='2022-04-04T17:00:00Z', local='2022-04-04T10:00:00-07:00'), datetime_last=Datetime(utc='2025-01-02T21:00:00Z', local='2025-01-02T13:00:00-08:00')),\n",
       " Location(id=921003, name='Burnaby North', locality='N/A', timezone='America/Vancouver', country=CountryBase(id=156, code='CA', name='Canada'), owner=OwnerBase(id=4, name='Unknown Governmental Organization'), provider=ProviderBase(id=119, name='AirNow'), is_mobile=False, is_monitor=True, instruments=[InstrumentBase(id=2, name='Government Monitor')], sensors=[SensorBase(id=5077713, name='pm10 µg/m³', parameter=ParameterBase(id=1, name='pm10', units='µg/m³', display_name='PM10')), SensorBase(id=5077664, name='so2 ppm', parameter=ParameterBase(id=9, name='so2', units='ppm', display_name='SO₂'))], coordinates=Coordinates(latitude=49.287, longitude=-123.008), bounds=[-123.008, 49.287, -123.008, 49.287], distance=None, datetime_first=Datetime(utc='2022-10-04T18:00:00Z', local='2022-10-04T11:00:00-07:00'), datetime_last=Datetime(utc='2025-01-02T21:00:00Z', local='2025-01-02T13:00:00-08:00')),\n",
       " Location(id=921005, name='Downtown Vancouver', locality='N/A', timezone='America/Vancouver', country=CountryBase(id=156, code='CA', name='Canada'), owner=OwnerBase(id=4, name='Unknown Governmental Organization'), provider=ProviderBase(id=119, name='AirNow'), is_mobile=False, is_monitor=True, instruments=[InstrumentBase(id=2, name='Government Monitor')], sensors=[SensorBase(id=5077627, name='co ppm', parameter=ParameterBase(id=8, name='co', units='ppm', display_name='CO')), SensorBase(id=5077639, name='no ppm', parameter=ParameterBase(id=35, name='no', units='ppm', display_name='NO')), SensorBase(id=5077793, name='no2 ppm', parameter=ParameterBase(id=7, name='no2', units='ppm', display_name='NO₂')), SensorBase(id=5077601, name='o3 ppm', parameter=ParameterBase(id=10, name='o3', units='ppm', display_name='O₃')), SensorBase(id=5077843, name='so2 ppm', parameter=ParameterBase(id=9, name='so2', units='ppm', display_name='SO₂'))], coordinates=Coordinates(latitude=49.282, longitude=-123.122), bounds=[-123.122, 49.282, -123.122, 49.282], distance=None, datetime_first=Datetime(utc='2022-10-04T18:00:00Z', local='2022-10-04T11:00:00-07:00'), datetime_last=Datetime(utc='2025-01-02T21:00:00Z', local='2025-01-02T13:00:00-08:00')),\n",
       " Location(id=1236062, name='AC Richmond, BC', locality=None, timezone='America/Vancouver', country=CountryBase(id=156, code='CA', name='Canada'), owner=OwnerBase(id=4, name='Unknown Governmental Organization'), provider=ProviderBase(id=66, name='AirGradient'), is_mobile=False, is_monitor=False, instruments=[InstrumentBase(id=7, name='AirGradient Sensor')], sensors=[SensorBase(id=7970735, name='pm1 µg/m³', parameter=ParameterBase(id=19, name='pm1', units='µg/m³', display_name='PM1')), SensorBase(id=7970712, name='pm10 µg/m³', parameter=ParameterBase(id=1, name='pm10', units='µg/m³', display_name='PM10')), SensorBase(id=6530322, name='pm25 µg/m³', parameter=ParameterBase(id=2, name='pm25', units='µg/m³', display_name='PM2.5')), SensorBase(id=7970702, name='relativehumidity %', parameter=ParameterBase(id=98, name='relativehumidity', units='%', display_name='RH')), SensorBase(id=6530311, name='temperature c', parameter=ParameterBase(id=100, name='temperature', units='c', display_name='Temperature (C)')), SensorBase(id=7970748, name='um003 particles/cm³', parameter=ParameterBase(id=125, name='um003', units='particles/cm³', display_name='PM0.3 count'))], coordinates=Coordinates(latitude=49.12289147218409, longitude=-123.1630830234623), bounds=[-123.1630830234623, 49.12289147218409, -123.1630830234623, 49.12289147218409], distance=None, datetime_first=Datetime(utc='2023-07-15T13:00:00Z', local='2023-07-15T06:00:00-07:00'), datetime_last=Datetime(utc='2025-01-03T01:00:00Z', local='2025-01-02T17:00:00-08:00')),\n",
       " Location(id=1457890, name='Burnaby, SFU', locality=None, timezone='America/Vancouver', country=CountryBase(id=156, code='CA', name='Canada'), owner=OwnerBase(id=4, name='Unknown Governmental Organization'), provider=ProviderBase(id=66, name='AirGradient'), is_mobile=False, is_monitor=False, instruments=[InstrumentBase(id=7, name='AirGradient Sensor')], sensors=[SensorBase(id=6787110, name='pm25 µg/m³', parameter=ParameterBase(id=2, name='pm25', units='µg/m³', display_name='PM2.5')), SensorBase(id=6787111, name='temperature c', parameter=ParameterBase(id=100, name='temperature', units='c', display_name='Temperature (C)'))], coordinates=Coordinates(latitude=49.2535808, longitude=-122.9006069), bounds=[-122.9006069, 49.2535808, -122.9006069, 49.2535808], distance=None, datetime_first=Datetime(utc='2023-08-20T06:00:00Z', local='2023-08-19T23:00:00-07:00'), datetime_last=Datetime(utc='2023-09-21T00:00:00Z', local='2023-09-20T17:00:00-07:00')),\n",
       " Location(id=1466168, name='Strathcona', locality=None, timezone='America/Vancouver', country=CountryBase(id=156, code='CA', name='Canada'), owner=OwnerBase(id=4, name='Unknown Governmental Organization'), provider=ProviderBase(id=66, name='AirGradient'), is_mobile=False, is_monitor=False, instruments=[InstrumentBase(id=7, name='AirGradient Sensor')], sensors=[SensorBase(id=6800476, name='pm25 µg/m³', parameter=ParameterBase(id=2, name='pm25', units='µg/m³', display_name='PM2.5')), SensorBase(id=6800480, name='temperature c', parameter=ParameterBase(id=100, name='temperature', units='c', display_name='Temperature (C)'))], coordinates=Coordinates(latitude=49.276261, longitude=-123.092619), bounds=[-123.092619, 49.276261, -123.092619, 49.276261], distance=None, datetime_first=Datetime(utc='2023-08-22T05:00:00Z', local='2023-08-21T22:00:00-07:00'), datetime_last=Datetime(utc='2023-08-22T21:00:00Z', local='2023-08-22T14:00:00-07:00')),\n",
       " Location(id=2023443, name='Pacifica', locality=None, timezone='America/Vancouver', country=CountryBase(id=156, code='CA', name='Canada'), owner=OwnerBase(id=12, name='AirGradient'), provider=ProviderBase(id=66, name='AirGradient'), is_mobile=False, is_monitor=False, instruments=[InstrumentBase(id=7, name='AirGradient Sensor'), InstrumentBase(id=7, name='AirGradient Sensor')], sensors=[SensorBase(id=7978060, name='pm1 µg/m³', parameter=ParameterBase(id=19, name='pm1', units='µg/m³', display_name='PM1')), SensorBase(id=7971333, name='pm1 µg/m³', parameter=ParameterBase(id=19, name='pm1', units='µg/m³', display_name='PM1')), SensorBase(id=7971350, name='pm10 µg/m³', parameter=ParameterBase(id=1, name='pm10', units='µg/m³', display_name='PM10')), SensorBase(id=7978068, name='pm10 µg/m³', parameter=ParameterBase(id=1, name='pm10', units='µg/m³', display_name='PM10')), SensorBase(id=7608903, name='pm25 µg/m³', parameter=ParameterBase(id=2, name='pm25', units='µg/m³', display_name='PM2.5')), SensorBase(id=7971675, name='relativehumidity %', parameter=ParameterBase(id=98, name='relativehumidity', units='%', display_name='RH')), SensorBase(id=7608908, name='temperature c', parameter=ParameterBase(id=100, name='temperature', units='c', display_name='Temperature (C)')), SensorBase(id=7971681, name='um003 particles/cm³', parameter=ParameterBase(id=125, name='um003', units='particles/cm³', display_name='PM0.3 count'))], coordinates=Coordinates(latitude=49.25777265342784, longitude=-123.11569850279542), bounds=[-123.11569850279542, 49.25777265342784, -123.11569850279542, 49.25777265342784], distance=None, datetime_first=Datetime(utc='2023-12-29T01:00:00Z', local='2023-12-28T17:00:00-08:00'), datetime_last=Datetime(utc='2025-01-03T01:00:00Z', local='2025-01-02T17:00:00-08:00')),\n",
       " Location(id=2812547, name='SAAQS – 700 Block of Templeton Drive', locality=None, timezone='America/Vancouver', country=CountryBase(id=156, code='CA', name='Canada'), owner=OwnerBase(id=9, name='Clarity'), provider=ProviderBase(id=166, name='Clarity'), is_mobile=False, is_monitor=False, instruments=[InstrumentBase(id=4, name='Clarity Sensor')], sensors=[SensorBase(id=8967325, name='pm25 µg/m³', parameter=ParameterBase(id=2, name='pm25', units='µg/m³', display_name='PM2.5'))], coordinates=Coordinates(latitude=49.27804, longitude=-123.06029), bounds=[-123.06029, 49.27804, -123.06029, 49.27804], distance=None, datetime_first=Datetime(utc='2024-04-24T16:00:00Z', local='2024-04-24T09:00:00-07:00'), datetime_last=Datetime(utc='2025-01-03T01:05:20Z', local='2025-01-02T17:05:20-08:00')),\n",
       " Location(id=2812569, name='SAAQS – 200 Block of Princess Ave', locality=None, timezone='America/Vancouver', country=CountryBase(id=156, code='CA', name='Canada'), owner=OwnerBase(id=9, name='Clarity'), provider=ProviderBase(id=166, name='Clarity'), is_mobile=False, is_monitor=False, instruments=[InstrumentBase(id=4, name='Clarity Sensor')], sensors=[SensorBase(id=8967483, name='pm25 µg/m³', parameter=ParameterBase(id=2, name='pm25', units='µg/m³', display_name='PM2.5'))], coordinates=Coordinates(latitude=49.28362, longitude=-123.09126), bounds=[-123.09126, 49.28362, -123.09126, 49.28362], distance=None, datetime_first=Datetime(utc='2024-04-24T16:00:00Z', local='2024-04-24T09:00:00-07:00'), datetime_last=Datetime(utc='2025-01-03T00:54:59Z', local='2025-01-02T16:54:59-08:00')),\n",
       " Location(id=2812578, name='SAAQS – Portside near Crab Park', locality=None, timezone='America/Vancouver', country=CountryBase(id=156, code='CA', name='Canada'), owner=OwnerBase(id=9, name='Clarity'), provider=ProviderBase(id=166, name='Clarity'), is_mobile=False, is_monitor=False, instruments=[InstrumentBase(id=4, name='Clarity Sensor')], sensors=[SensorBase(id=8966953, name='pm25 µg/m³', parameter=ParameterBase(id=2, name='pm25', units='µg/m³', display_name='PM2.5'))], coordinates=Coordinates(latitude=49.28581, longitude=-123.10578), bounds=[-123.10578, 49.28581, -123.10578, 49.28581], distance=None, datetime_first=Datetime(utc='2024-04-24T16:00:00Z', local='2024-04-24T09:00:00-07:00'), datetime_last=Datetime(utc='2025-01-03T01:05:26Z', local='2025-01-02T17:05:26-08:00')),\n",
       " Location(id=2812605, name='SAAQS – 1000 Block of E Pender St', locality=None, timezone='America/Vancouver', country=CountryBase(id=156, code='CA', name='Canada'), owner=OwnerBase(id=9, name='Clarity'), provider=ProviderBase(id=166, name='Clarity'), is_mobile=False, is_monitor=False, instruments=[InstrumentBase(id=4, name='Clarity Sensor')], sensors=[SensorBase(id=8967241, name='pm25 µg/m³', parameter=ParameterBase(id=2, name='pm25', units='µg/m³', display_name='PM2.5'))], coordinates=Coordinates(latitude=49.27978, longitude=-123.08201), bounds=[-123.08201, 49.27978, -123.08201, 49.27978], distance=None, datetime_first=Datetime(utc='2024-04-24T16:00:00Z', local='2024-04-24T09:00:00-07:00'), datetime_last=Datetime(utc='2025-01-03T00:53:39Z', local='2025-01-02T16:53:39-08:00')),\n",
       " Location(id=2812618, name='SAAQS – 400 Block of Alexander St', locality=None, timezone='America/Vancouver', country=CountryBase(id=156, code='CA', name='Canada'), owner=OwnerBase(id=9, name='Clarity'), provider=ProviderBase(id=166, name='Clarity'), is_mobile=False, is_monitor=False, instruments=[InstrumentBase(id=4, name='Clarity Sensor')], sensors=[SensorBase(id=8967473, name='pm25 µg/m³', parameter=ParameterBase(id=2, name='pm25', units='µg/m³', display_name='PM2.5'))], coordinates=Coordinates(latitude=49.28425, longitude=-123.09376), bounds=[-123.09376, 49.28425, -123.09376, 49.28425], distance=None, datetime_first=Datetime(utc='2024-04-24T16:00:00Z', local='2024-04-24T09:00:00-07:00'), datetime_last=Datetime(utc='2025-01-03T01:02:49Z', local='2025-01-02T17:02:49-08:00')),\n",
       " Location(id=2812658, name='SAAQS – 600 Block of Jackson Ave', locality=None, timezone='America/Vancouver', country=CountryBase(id=156, code='CA', name='Canada'), owner=OwnerBase(id=9, name='Clarity'), provider=ProviderBase(id=166, name='Clarity'), is_mobile=False, is_monitor=False, instruments=[InstrumentBase(id=4, name='Clarity Sensor')], sensors=[SensorBase(id=8966937, name='pm25 µg/m³', parameter=ParameterBase(id=2, name='pm25', units='µg/m³', display_name='PM2.5'))], coordinates=Coordinates(latitude=49.27918, longitude=-123.09377), bounds=[-123.09377, 49.27918, -123.09377, 49.27918], distance=None, datetime_first=Datetime(utc='2024-04-24T16:00:00Z', local='2024-04-24T09:00:00-07:00'), datetime_last=Datetime(utc='2025-01-03T01:02:21Z', local='2025-01-02T17:02:21-08:00')),\n",
       " Location(id=2812662, name='SAAQS – 1100 Block of Franklin St', locality=None, timezone='America/Vancouver', country=CountryBase(id=156, code='CA', name='Canada'), owner=OwnerBase(id=9, name='Clarity'), provider=ProviderBase(id=166, name='Clarity'), is_mobile=False, is_monitor=False, instruments=[InstrumentBase(id=4, name='Clarity Sensor')], sensors=[SensorBase(id=8967089, name='pm25 µg/m³', parameter=ParameterBase(id=2, name='pm25', units='µg/m³', display_name='PM2.5'))], coordinates=Coordinates(latitude=49.28262, longitude=-123.08056), bounds=[-123.08056, 49.28262, -123.08056, 49.28262], distance=None, datetime_first=Datetime(utc='2024-04-24T16:00:00Z', local='2024-04-24T09:00:00-07:00'), datetime_last=Datetime(utc='2025-01-03T00:55:52Z', local='2025-01-02T16:55:52-08:00')),\n",
       " Location(id=2812670, name='SAAQS – Clark Drive Station Colocation', locality=None, timezone='America/Vancouver', country=CountryBase(id=156, code='CA', name='Canada'), owner=OwnerBase(id=9, name='Clarity'), provider=ProviderBase(id=166, name='Clarity'), is_mobile=False, is_monitor=False, instruments=[InstrumentBase(id=4, name='Clarity Sensor')], sensors=[SensorBase(id=8967023, name='pm25 µg/m³', parameter=ParameterBase(id=2, name='pm25', units='µg/m³', display_name='PM2.5'))], coordinates=Coordinates(latitude=49.26047, longitude=-123.07773), bounds=[-123.07773, 49.26047, -123.07773, 49.26047], distance=None, datetime_first=Datetime(utc='2024-04-24T16:00:00Z', local='2024-04-24T09:00:00-07:00'), datetime_last=Datetime(utc='2025-01-03T00:45:29Z', local='2025-01-02T16:45:29-08:00')),\n",
       " Location(id=2812674, name='SAAQS – 1300 Block of Adanac St', locality=None, timezone='America/Vancouver', country=CountryBase(id=156, code='CA', name='Canada'), owner=OwnerBase(id=9, name='Clarity'), provider=ProviderBase(id=166, name='Clarity'), is_mobile=False, is_monitor=False, instruments=[InstrumentBase(id=4, name='Clarity Sensor')], sensors=[SensorBase(id=8967475, name='pm25 µg/m³', parameter=ParameterBase(id=2, name='pm25', units='µg/m³', display_name='PM2.5'))], coordinates=Coordinates(latitude=49.27768, longitude=-123.07634), bounds=[-123.07634, 49.27768, -123.07634, 49.27768], distance=None, datetime_first=Datetime(utc='2024-04-24T16:00:00Z', local='2024-04-24T09:00:00-07:00'), datetime_last=Datetime(utc='2024-12-31T15:48:00Z', local='2024-12-31T07:48:00-08:00')),\n",
       " Location(id=2812679, name='SAAQS – 600 Block of E Hastings St', locality=None, timezone='America/Vancouver', country=CountryBase(id=156, code='CA', name='Canada'), owner=OwnerBase(id=9, name='Clarity'), provider=ProviderBase(id=166, name='Clarity'), is_mobile=False, is_monitor=False, instruments=[InstrumentBase(id=4, name='Clarity Sensor')], sensors=[SensorBase(id=8966927, name='pm25 µg/m³', parameter=ParameterBase(id=2, name='pm25', units='µg/m³', display_name='PM2.5'))], coordinates=Coordinates(latitude=49.28153, longitude=-123.09129), bounds=[-123.09129, 49.28153, -123.09129, 49.28153], distance=None, datetime_first=Datetime(utc='2024-04-24T16:00:00Z', local='2024-04-24T09:00:00-07:00'), datetime_last=Datetime(utc='2025-01-03T00:04:55Z', local='2025-01-02T16:04:55-08:00')),\n",
       " Location(id=2812683, name='SAAQS - 300 Block of Clark Dr', locality=None, timezone='America/Vancouver', country=CountryBase(id=156, code='CA', name='Canada'), owner=OwnerBase(id=9, name='Clarity'), provider=ProviderBase(id=166, name='Clarity'), is_mobile=False, is_monitor=False, instruments=[InstrumentBase(id=4, name='Clarity Sensor')], sensors=[SensorBase(id=8967385, name='pm25 µg/m³', parameter=ParameterBase(id=2, name='pm25', units='µg/m³', display_name='PM2.5'))], coordinates=Coordinates(latitude=49.28186, longitude=-123.07691), bounds=[-123.07691, 49.28186, -123.07691, 49.28186], distance=None, datetime_first=Datetime(utc='2024-04-24T16:00:00Z', local='2024-04-24T09:00:00-07:00'), datetime_last=Datetime(utc='2025-01-03T01:06:12Z', local='2025-01-02T17:06:12-08:00')),\n",
       " Location(id=2836781, name='New Westminster', locality='N/A', timezone='America/Vancouver', country=CountryBase(id=156, code='CA', name='Canada'), owner=OwnerBase(id=4, name='Unknown Governmental Organization'), provider=ProviderBase(id=119, name='AirNow'), is_mobile=False, is_monitor=True, instruments=[InstrumentBase(id=2, name='Government Monitor')], sensors=[SensorBase(id=9146193, name='no ppm', parameter=ParameterBase(id=35, name='no', units='ppm', display_name='NO')), SensorBase(id=9146187, name='no2 ppm', parameter=ParameterBase(id=7, name='no2', units='ppm', display_name='NO₂')), SensorBase(id=9146189, name='o3 ppm', parameter=ParameterBase(id=10, name='o3', units='ppm', display_name='O₃')), SensorBase(id=9146186, name='pm25 µg/m³', parameter=ParameterBase(id=2, name='pm25', units='µg/m³', display_name='PM2.5'))], coordinates=Coordinates(latitude=49.227045, longitude=-122.894487), bounds=[-122.894487, 49.227045, -122.894487, 49.227045], distance=None, datetime_first=Datetime(utc='2024-05-09T00:00:00Z', local='2024-05-08T17:00:00-07:00'), datetime_last=Datetime(utc='2025-01-02T21:00:00Z', local='2025-01-02T13:00:00-08:00')),\n",
       " Location(id=2836782, name='Vancouver-Clark Driv', locality='N/A', timezone='America/Vancouver', country=CountryBase(id=156, code='CA', name='Canada'), owner=OwnerBase(id=4, name='Unknown Governmental Organization'), provider=ProviderBase(id=119, name='AirNow'), is_mobile=False, is_monitor=True, instruments=[InstrumentBase(id=2, name='Government Monitor')], sensors=[SensorBase(id=9146191, name='no2 ppm', parameter=ParameterBase(id=7, name='no2', units='ppm', display_name='NO₂')), SensorBase(id=9146192, name='o3 ppm', parameter=ParameterBase(id=10, name='o3', units='ppm', display_name='O₃')), SensorBase(id=9146190, name='pm25 µg/m³', parameter=ParameterBase(id=2, name='pm25', units='µg/m³', display_name='PM2.5')), SensorBase(id=9146188, name='so2 ppm', parameter=ParameterBase(id=9, name='so2', units='ppm', display_name='SO₂'))], coordinates=Coordinates(latitude=49.26029, longitude=-123.077811), bounds=[-123.077811, 49.26029, -123.077811, 49.26029], distance=None, datetime_first=Datetime(utc='2024-05-09T00:00:00Z', local='2024-05-08T17:00:00-07:00'), datetime_last=Datetime(utc='2025-01-02T21:00:00Z', local='2025-01-02T13:00:00-08:00')),\n",
       " Location(id=2840477, name='Walnut Grove', locality=None, timezone='America/Vancouver', country=CountryBase(id=156, code='CA', name='Canada'), owner=OwnerBase(id=12, name='AirGradient'), provider=ProviderBase(id=66, name='AirGradient'), is_mobile=False, is_monitor=False, instruments=[InstrumentBase(id=7, name='AirGradient Sensor')], sensors=[SensorBase(id=9174452, name='pm1 µg/m³', parameter=ParameterBase(id=19, name='pm1', units='µg/m³', display_name='PM1')), SensorBase(id=9174438, name='pm10 µg/m³', parameter=ParameterBase(id=1, name='pm10', units='µg/m³', display_name='PM10')), SensorBase(id=9174423, name='pm25 µg/m³', parameter=ParameterBase(id=2, name='pm25', units='µg/m³', display_name='PM2.5')), SensorBase(id=9174425, name='relativehumidity %', parameter=ParameterBase(id=98, name='relativehumidity', units='%', display_name='RH')), SensorBase(id=9174436, name='temperature c', parameter=ParameterBase(id=100, name='temperature', units='c', display_name='Temperature (C)')), SensorBase(id=9174451, name='um003 particles/cm³', parameter=ParameterBase(id=125, name='um003', units='particles/cm³', display_name='PM0.3 count'))], coordinates=Coordinates(latitude=49.1716277, longitude=-122.6584767), bounds=[-122.6584767, 49.1716277, -122.6584767, 49.1716277], distance=None, datetime_first=Datetime(utc='2024-05-12T02:00:00Z', local='2024-05-11T19:00:00-07:00'), datetime_last=Datetime(utc='2025-01-03T01:00:00Z', local='2025-01-02T17:00:00-08:00')),\n",
       " Location(id=2845180, name='Vancouver-Pandora Pa', locality='N/A', timezone='America/Vancouver', country=CountryBase(id=156, code='CA', name='Canada'), owner=OwnerBase(id=4, name='Unknown Governmental Organization'), provider=ProviderBase(id=119, name='AirNow'), is_mobile=False, is_monitor=True, instruments=[InstrumentBase(id=2, name='Government Monitor')], sensors=[SensorBase(id=9208219, name='so2 ppm', parameter=ParameterBase(id=9, name='so2', units='ppm', display_name='SO₂'))], coordinates=Coordinates(latitude=49.282286, longitude=-123.057608), bounds=[-123.057608, 49.282286, -123.057608, 49.282286], distance=None, datetime_first=Datetime(utc='2024-05-13T05:00:00Z', local='2024-05-12T22:00:00-07:00'), datetime_last=Datetime(utc='2024-05-13T23:00:00Z', local='2024-05-13T16:00:00-07:00'))]"
      ]
     },
     "execution_count": 15,
     "metadata": {},
     "output_type": "execute_result"
    }
   ],
   "source": [
    "vancouver_bbox_search_locations.results"
   ]
  }
 ],
 "metadata": {
  "kernelspec": {
   "display_name": ".venv",
   "language": "python",
   "name": "python3"
  },
  "language_info": {
   "codemirror_mode": {
    "name": "ipython",
    "version": 3
   },
   "file_extension": ".py",
   "mimetype": "text/x-python",
   "name": "python",
   "nbconvert_exporter": "python",
   "pygments_lexer": "ipython3",
   "version": "3.13.1"
  }
 },
 "nbformat": 4,
 "nbformat_minor": 2
}
